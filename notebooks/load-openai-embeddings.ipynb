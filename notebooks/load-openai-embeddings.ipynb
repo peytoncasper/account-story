{
 "cells": [
  {
   "attachments": {},
   "cell_type": "markdown",
   "metadata": {},
   "source": [
    "## Loading data into Pinecone\n",
    "\n",
    "Make sure you have your Pinecone API Key and Environment URL handy."
   ]
  },
  {
   "cell_type": "code",
   "execution_count": 1,
   "metadata": {},
   "outputs": [
    {
     "name": "stdout",
     "output_type": "stream",
     "text": [
      "Defaulting to user installation because normal site-packages is not writeable\n",
      "Requirement already satisfied: pinecone-client in /Users/peytocas/Library/Python/3.9/lib/python/site-packages (2.2.2)\n",
      "Requirement already satisfied: requests>=2.19.0 in /Users/peytocas/Library/Python/3.9/lib/python/site-packages (from pinecone-client) (2.31.0)\n",
      "Requirement already satisfied: pyyaml>=5.4 in /Users/peytocas/Library/Python/3.9/lib/python/site-packages (from pinecone-client) (6.0)\n",
      "Requirement already satisfied: loguru>=0.5.0 in /Users/peytocas/Library/Python/3.9/lib/python/site-packages (from pinecone-client) (0.7.0)\n",
      "Requirement already satisfied: typing-extensions>=3.7.4 in /Users/peytocas/Library/Python/3.9/lib/python/site-packages (from pinecone-client) (4.6.3)\n",
      "Requirement already satisfied: dnspython>=2.0.0 in /Users/peytocas/Library/Python/3.9/lib/python/site-packages (from pinecone-client) (2.3.0)\n",
      "Requirement already satisfied: python-dateutil>=2.5.3 in /Users/peytocas/Library/Python/3.9/lib/python/site-packages (from pinecone-client) (2.8.2)\n",
      "Requirement already satisfied: urllib3>=1.21.1 in /Users/peytocas/Library/Python/3.9/lib/python/site-packages (from pinecone-client) (1.26.1)\n",
      "Requirement already satisfied: tqdm>=4.64.1 in /Users/peytocas/Library/Python/3.9/lib/python/site-packages (from pinecone-client) (4.65.0)\n",
      "Requirement already satisfied: numpy>=1.22.0 in /Users/peytocas/Library/Python/3.9/lib/python/site-packages (from pinecone-client) (1.24.3)\n",
      "Requirement already satisfied: six>=1.5 in /Library/Developer/CommandLineTools/Library/Frameworks/Python3.framework/Versions/3.9/lib/python3.9/site-packages (from python-dateutil>=2.5.3->pinecone-client) (1.15.0)\n",
      "Requirement already satisfied: charset-normalizer<4,>=2 in /Users/peytocas/Library/Python/3.9/lib/python/site-packages (from requests>=2.19.0->pinecone-client) (3.1.0)\n",
      "Requirement already satisfied: idna<4,>=2.5 in /Users/peytocas/Library/Python/3.9/lib/python/site-packages (from requests>=2.19.0->pinecone-client) (3.4)\n",
      "Requirement already satisfied: certifi>=2017.4.17 in /Users/peytocas/Library/Python/3.9/lib/python/site-packages (from requests>=2.19.0->pinecone-client) (2023.5.7)\n",
      "Defaulting to user installation because normal site-packages is not writeable\n",
      "Requirement already satisfied: pandas in /Users/peytocas/Library/Python/3.9/lib/python/site-packages (2.0.2)\n",
      "Requirement already satisfied: python-dateutil>=2.8.2 in /Users/peytocas/Library/Python/3.9/lib/python/site-packages (from pandas) (2.8.2)\n",
      "Requirement already satisfied: pytz>=2020.1 in /Users/peytocas/Library/Python/3.9/lib/python/site-packages (from pandas) (2023.3)\n",
      "Requirement already satisfied: tzdata>=2022.1 in /Users/peytocas/Library/Python/3.9/lib/python/site-packages (from pandas) (2023.3)\n",
      "Requirement already satisfied: numpy>=1.20.3 in /Users/peytocas/Library/Python/3.9/lib/python/site-packages (from pandas) (1.24.3)\n",
      "Requirement already satisfied: six>=1.5 in /Library/Developer/CommandLineTools/Library/Frameworks/Python3.framework/Versions/3.9/lib/python3.9/site-packages (from python-dateutil>=2.8.2->pandas) (1.15.0)\n",
      "Defaulting to user installation because normal site-packages is not writeable\n",
      "Requirement already satisfied: openai in /Users/peytocas/Library/Python/3.9/lib/python/site-packages (0.27.7)\n",
      "Requirement already satisfied: requests>=2.20 in /Users/peytocas/Library/Python/3.9/lib/python/site-packages (from openai) (2.31.0)\n",
      "Requirement already satisfied: tqdm in /Users/peytocas/Library/Python/3.9/lib/python/site-packages (from openai) (4.65.0)\n",
      "Requirement already satisfied: aiohttp in /Users/peytocas/Library/Python/3.9/lib/python/site-packages (from openai) (3.8.4)\n",
      "Requirement already satisfied: charset-normalizer<4,>=2 in /Users/peytocas/Library/Python/3.9/lib/python/site-packages (from requests>=2.20->openai) (3.1.0)\n",
      "Requirement already satisfied: idna<4,>=2.5 in /Users/peytocas/Library/Python/3.9/lib/python/site-packages (from requests>=2.20->openai) (3.4)\n",
      "Requirement already satisfied: urllib3<3,>=1.21.1 in /Users/peytocas/Library/Python/3.9/lib/python/site-packages (from requests>=2.20->openai) (1.26.1)\n",
      "Requirement already satisfied: certifi>=2017.4.17 in /Users/peytocas/Library/Python/3.9/lib/python/site-packages (from requests>=2.20->openai) (2023.5.7)\n",
      "Requirement already satisfied: attrs>=17.3.0 in /Users/peytocas/Library/Python/3.9/lib/python/site-packages (from aiohttp->openai) (23.1.0)\n",
      "Requirement already satisfied: multidict<7.0,>=4.5 in /Users/peytocas/Library/Python/3.9/lib/python/site-packages (from aiohttp->openai) (6.0.4)\n",
      "Requirement already satisfied: async-timeout<5.0,>=4.0.0a3 in /Users/peytocas/Library/Python/3.9/lib/python/site-packages (from aiohttp->openai) (4.0.2)\n",
      "Requirement already satisfied: yarl<2.0,>=1.0 in /Users/peytocas/Library/Python/3.9/lib/python/site-packages (from aiohttp->openai) (1.9.2)\n",
      "Requirement already satisfied: frozenlist>=1.1.1 in /Users/peytocas/Library/Python/3.9/lib/python/site-packages (from aiohttp->openai) (1.3.3)\n",
      "Requirement already satisfied: aiosignal>=1.1.2 in /Users/peytocas/Library/Python/3.9/lib/python/site-packages (from aiohttp->openai) (1.3.1)\n"
     ]
    }
   ],
   "source": [
    "## Install the client library into your Jupyter environment\n",
    "!pip3 install pinecone-client\n",
    "!pip3 install pandas\n",
    "!pip3 install openai"
   ]
  },
  {
   "cell_type": "code",
   "execution_count": 1,
   "metadata": {},
   "outputs": [
    {
     "name": "stderr",
     "output_type": "stream",
     "text": [
      "/Users/peytocas/Library/Python/3.9/lib/python/site-packages/pinecone/index.py:4: TqdmWarning: IProgress not found. Please update jupyter and ipywidgets. See https://ipywidgets.readthedocs.io/en/stable/user_install.html\n",
      "  from tqdm.autonotebook import tqdm\n"
     ]
    }
   ],
   "source": [
    "# Import dependencies\n",
    "import pinecone\n",
    "import pandas as pd\n",
    "import openai\n",
    "import numpy as np"
   ]
  },
  {
   "cell_type": "code",
   "execution_count": 2,
   "metadata": {},
   "outputs": [],
   "source": [
    "# Init the openai client\n",
    "## IMPORTANT: YOUR API KEY IS SENSITIVE INFORMATION\n",
    "## IMPORTANT: DELETE THE API KEY FROM THIS NOTEBOOK BEFORE UPLOADING TO GITHUB\n",
    "openai.api_key = \"\""
   ]
  },
  {
   "cell_type": "code",
   "execution_count": 3,
   "metadata": {},
   "outputs": [],
   "source": [
    "# Load our sample data\n",
    "df = pd.read_csv('Project_Management_1687408330.csv')\n"
   ]
  },
  {
   "cell_type": "code",
   "execution_count": 4,
   "metadata": {},
   "outputs": [
    {
     "data": {
      "text/html": [
       "<div>\n",
       "<style scoped>\n",
       "    .dataframe tbody tr th:only-of-type {\n",
       "        vertical-align: middle;\n",
       "    }\n",
       "\n",
       "    .dataframe tbody tr th {\n",
       "        vertical-align: top;\n",
       "    }\n",
       "\n",
       "    .dataframe thead th {\n",
       "        text-align: right;\n",
       "    }\n",
       "</style>\n",
       "<table border=\"1\" class=\"dataframe\">\n",
       "  <thead>\n",
       "    <tr style=\"text-align: right;\">\n",
       "      <th></th>\n",
       "      <th>Name</th>\n",
       "      <th>Subitems</th>\n",
       "      <th>Person</th>\n",
       "      <th>Status</th>\n",
       "      <th>Date</th>\n",
       "      <th>Accounts</th>\n",
       "      <th>Deals</th>\n",
       "    </tr>\n",
       "  </thead>\n",
       "  <tbody>\n",
       "    <tr>\n",
       "      <th>0</th>\n",
       "      <td>Gong.io Integration</td>\n",
       "      <td>NaN</td>\n",
       "      <td>NaN</td>\n",
       "      <td>Working on it</td>\n",
       "      <td>NaN</td>\n",
       "      <td>NaN</td>\n",
       "      <td>NaN</td>\n",
       "    </tr>\n",
       "    <tr>\n",
       "      <th>1</th>\n",
       "      <td>SFDC Integration</td>\n",
       "      <td>NaN</td>\n",
       "      <td>NaN</td>\n",
       "      <td>NaN</td>\n",
       "      <td>NaN</td>\n",
       "      <td>NaN</td>\n",
       "      <td>NaN</td>\n",
       "    </tr>\n",
       "    <tr>\n",
       "      <th>2</th>\n",
       "      <td>Zoom Integration</td>\n",
       "      <td>NaN</td>\n",
       "      <td>NaN</td>\n",
       "      <td>NaN</td>\n",
       "      <td>NaN</td>\n",
       "      <td>NaN</td>\n",
       "      <td>NaN</td>\n",
       "    </tr>\n",
       "    <tr>\n",
       "      <th>3</th>\n",
       "      <td>Fix the Multi Column Error</td>\n",
       "      <td>NaN</td>\n",
       "      <td>NaN</td>\n",
       "      <td>NaN</td>\n",
       "      <td>NaN</td>\n",
       "      <td>NaN</td>\n",
       "      <td>NaN</td>\n",
       "    </tr>\n",
       "    <tr>\n",
       "      <th>4</th>\n",
       "      <td>Monday Context Hook Doesn't Work</td>\n",
       "      <td>NaN</td>\n",
       "      <td>NaN</td>\n",
       "      <td>NaN</td>\n",
       "      <td>NaN</td>\n",
       "      <td>NaN</td>\n",
       "      <td>NaN</td>\n",
       "    </tr>\n",
       "  </tbody>\n",
       "</table>\n",
       "</div>"
      ],
      "text/plain": [
       "                               Name  Subitems  Person         Status  Date  \\\n",
       "0               Gong.io Integration       NaN     NaN  Working on it   NaN   \n",
       "1                  SFDC Integration       NaN     NaN            NaN   NaN   \n",
       "2                  Zoom Integration       NaN     NaN            NaN   NaN   \n",
       "3        Fix the Multi Column Error       NaN     NaN            NaN   NaN   \n",
       "4  Monday Context Hook Doesn't Work       NaN     NaN            NaN   NaN   \n",
       "\n",
       "   Accounts  Deals  \n",
       "0       NaN    NaN  \n",
       "1       NaN    NaN  \n",
       "2       NaN    NaN  \n",
       "3       NaN    NaN  \n",
       "4       NaN    NaN  "
      ]
     },
     "execution_count": 4,
     "metadata": {},
     "output_type": "execute_result"
    }
   ],
   "source": [
    "df"
   ]
  },
  {
   "cell_type": "code",
   "execution_count": 5,
   "metadata": {},
   "outputs": [],
   "source": [
    "# This is our embedding function that allows pandas to apply it across each\n",
    "# row of our dataframe\n",
    "def get_embedding(text, model=\"text-embedding-ada-002\"):\n",
    "   return openai.Embedding.create(input = [text], model=model)['data'][0]['embedding']"
   ]
  },
  {
   "cell_type": "code",
   "execution_count": 6,
   "metadata": {},
   "outputs": [],
   "source": [
    "## Utilize our embedding functions to generate embeddings and set them\n",
    "## to a new column called ada_embedding\n",
    "df['ada_embedding'] = df.Name.apply(lambda x: get_embedding(x, model='text-embedding-ada-002'))"
   ]
  },
  {
   "cell_type": "code",
   "execution_count": 7,
   "metadata": {},
   "outputs": [
    {
     "data": {
      "text/html": [
       "<div>\n",
       "<style scoped>\n",
       "    .dataframe tbody tr th:only-of-type {\n",
       "        vertical-align: middle;\n",
       "    }\n",
       "\n",
       "    .dataframe tbody tr th {\n",
       "        vertical-align: top;\n",
       "    }\n",
       "\n",
       "    .dataframe thead th {\n",
       "        text-align: right;\n",
       "    }\n",
       "</style>\n",
       "<table border=\"1\" class=\"dataframe\">\n",
       "  <thead>\n",
       "    <tr style=\"text-align: right;\">\n",
       "      <th></th>\n",
       "      <th>Name</th>\n",
       "      <th>Subitems</th>\n",
       "      <th>Person</th>\n",
       "      <th>Status</th>\n",
       "      <th>Date</th>\n",
       "      <th>Accounts</th>\n",
       "      <th>Deals</th>\n",
       "      <th>ada_embedding</th>\n",
       "    </tr>\n",
       "  </thead>\n",
       "  <tbody>\n",
       "    <tr>\n",
       "      <th>0</th>\n",
       "      <td>Gong.io Integration</td>\n",
       "      <td>NaN</td>\n",
       "      <td>NaN</td>\n",
       "      <td>Working on it</td>\n",
       "      <td>NaN</td>\n",
       "      <td>NaN</td>\n",
       "      <td>NaN</td>\n",
       "      <td>[0.000319324346492067, -0.014362137764692307, ...</td>\n",
       "    </tr>\n",
       "    <tr>\n",
       "      <th>1</th>\n",
       "      <td>SFDC Integration</td>\n",
       "      <td>NaN</td>\n",
       "      <td>NaN</td>\n",
       "      <td>NaN</td>\n",
       "      <td>NaN</td>\n",
       "      <td>NaN</td>\n",
       "      <td>NaN</td>\n",
       "      <td>[-0.00421494897454977, -0.003558073891326785, ...</td>\n",
       "    </tr>\n",
       "    <tr>\n",
       "      <th>2</th>\n",
       "      <td>Zoom Integration</td>\n",
       "      <td>NaN</td>\n",
       "      <td>NaN</td>\n",
       "      <td>NaN</td>\n",
       "      <td>NaN</td>\n",
       "      <td>NaN</td>\n",
       "      <td>NaN</td>\n",
       "      <td>[0.003471081843599677, -0.011688053607940674, ...</td>\n",
       "    </tr>\n",
       "    <tr>\n",
       "      <th>3</th>\n",
       "      <td>Fix the Multi Column Error</td>\n",
       "      <td>NaN</td>\n",
       "      <td>NaN</td>\n",
       "      <td>NaN</td>\n",
       "      <td>NaN</td>\n",
       "      <td>NaN</td>\n",
       "      <td>NaN</td>\n",
       "      <td>[-0.025359127670526505, 0.030919456854462624, ...</td>\n",
       "    </tr>\n",
       "    <tr>\n",
       "      <th>4</th>\n",
       "      <td>Monday Context Hook Doesn't Work</td>\n",
       "      <td>NaN</td>\n",
       "      <td>NaN</td>\n",
       "      <td>NaN</td>\n",
       "      <td>NaN</td>\n",
       "      <td>NaN</td>\n",
       "      <td>NaN</td>\n",
       "      <td>[-0.03184713050723076, 0.005752094555646181, -...</td>\n",
       "    </tr>\n",
       "  </tbody>\n",
       "</table>\n",
       "</div>"
      ],
      "text/plain": [
       "                               Name  Subitems  Person         Status  Date  \\\n",
       "0               Gong.io Integration       NaN     NaN  Working on it   NaN   \n",
       "1                  SFDC Integration       NaN     NaN            NaN   NaN   \n",
       "2                  Zoom Integration       NaN     NaN            NaN   NaN   \n",
       "3        Fix the Multi Column Error       NaN     NaN            NaN   NaN   \n",
       "4  Monday Context Hook Doesn't Work       NaN     NaN            NaN   NaN   \n",
       "\n",
       "   Accounts  Deals                                      ada_embedding  \n",
       "0       NaN    NaN  [0.000319324346492067, -0.014362137764692307, ...  \n",
       "1       NaN    NaN  [-0.00421494897454977, -0.003558073891326785, ...  \n",
       "2       NaN    NaN  [0.003471081843599677, -0.011688053607940674, ...  \n",
       "3       NaN    NaN  [-0.025359127670526505, 0.030919456854462624, ...  \n",
       "4       NaN    NaN  [-0.03184713050723076, 0.005752094555646181, -...  "
      ]
     },
     "execution_count": 7,
     "metadata": {},
     "output_type": "execute_result"
    }
   ],
   "source": [
    "df"
   ]
  },
  {
   "cell_type": "code",
   "execution_count": 8,
   "metadata": {},
   "outputs": [],
   "source": [
    "df[\"metadata\"] = [{\"type\": \"feature_request\"}] * len(df)"
   ]
  },
  {
   "cell_type": "code",
   "execution_count": 9,
   "metadata": {},
   "outputs": [
    {
     "data": {
      "text/html": [
       "<div>\n",
       "<style scoped>\n",
       "    .dataframe tbody tr th:only-of-type {\n",
       "        vertical-align: middle;\n",
       "    }\n",
       "\n",
       "    .dataframe tbody tr th {\n",
       "        vertical-align: top;\n",
       "    }\n",
       "\n",
       "    .dataframe thead th {\n",
       "        text-align: right;\n",
       "    }\n",
       "</style>\n",
       "<table border=\"1\" class=\"dataframe\">\n",
       "  <thead>\n",
       "    <tr style=\"text-align: right;\">\n",
       "      <th></th>\n",
       "      <th>Name</th>\n",
       "      <th>Subitems</th>\n",
       "      <th>Person</th>\n",
       "      <th>Status</th>\n",
       "      <th>Date</th>\n",
       "      <th>Accounts</th>\n",
       "      <th>Deals</th>\n",
       "      <th>ada_embedding</th>\n",
       "      <th>metadata</th>\n",
       "    </tr>\n",
       "  </thead>\n",
       "  <tbody>\n",
       "    <tr>\n",
       "      <th>0</th>\n",
       "      <td>Gong.io Integration</td>\n",
       "      <td>NaN</td>\n",
       "      <td>NaN</td>\n",
       "      <td>Working on it</td>\n",
       "      <td>NaN</td>\n",
       "      <td>NaN</td>\n",
       "      <td>NaN</td>\n",
       "      <td>[0.000319324346492067, -0.014362137764692307, ...</td>\n",
       "      <td>{'type': 'feature_request'}</td>\n",
       "    </tr>\n",
       "    <tr>\n",
       "      <th>1</th>\n",
       "      <td>SFDC Integration</td>\n",
       "      <td>NaN</td>\n",
       "      <td>NaN</td>\n",
       "      <td>NaN</td>\n",
       "      <td>NaN</td>\n",
       "      <td>NaN</td>\n",
       "      <td>NaN</td>\n",
       "      <td>[-0.00421494897454977, -0.003558073891326785, ...</td>\n",
       "      <td>{'type': 'feature_request'}</td>\n",
       "    </tr>\n",
       "    <tr>\n",
       "      <th>2</th>\n",
       "      <td>Zoom Integration</td>\n",
       "      <td>NaN</td>\n",
       "      <td>NaN</td>\n",
       "      <td>NaN</td>\n",
       "      <td>NaN</td>\n",
       "      <td>NaN</td>\n",
       "      <td>NaN</td>\n",
       "      <td>[0.003471081843599677, -0.011688053607940674, ...</td>\n",
       "      <td>{'type': 'feature_request'}</td>\n",
       "    </tr>\n",
       "    <tr>\n",
       "      <th>3</th>\n",
       "      <td>Fix the Multi Column Error</td>\n",
       "      <td>NaN</td>\n",
       "      <td>NaN</td>\n",
       "      <td>NaN</td>\n",
       "      <td>NaN</td>\n",
       "      <td>NaN</td>\n",
       "      <td>NaN</td>\n",
       "      <td>[-0.025359127670526505, 0.030919456854462624, ...</td>\n",
       "      <td>{'type': 'feature_request'}</td>\n",
       "    </tr>\n",
       "    <tr>\n",
       "      <th>4</th>\n",
       "      <td>Monday Context Hook Doesn't Work</td>\n",
       "      <td>NaN</td>\n",
       "      <td>NaN</td>\n",
       "      <td>NaN</td>\n",
       "      <td>NaN</td>\n",
       "      <td>NaN</td>\n",
       "      <td>NaN</td>\n",
       "      <td>[-0.03184713050723076, 0.005752094555646181, -...</td>\n",
       "      <td>{'type': 'feature_request'}</td>\n",
       "    </tr>\n",
       "  </tbody>\n",
       "</table>\n",
       "</div>"
      ],
      "text/plain": [
       "                               Name  Subitems  Person         Status  Date  \\\n",
       "0               Gong.io Integration       NaN     NaN  Working on it   NaN   \n",
       "1                  SFDC Integration       NaN     NaN            NaN   NaN   \n",
       "2                  Zoom Integration       NaN     NaN            NaN   NaN   \n",
       "3        Fix the Multi Column Error       NaN     NaN            NaN   NaN   \n",
       "4  Monday Context Hook Doesn't Work       NaN     NaN            NaN   NaN   \n",
       "\n",
       "   Accounts  Deals                                      ada_embedding  \\\n",
       "0       NaN    NaN  [0.000319324346492067, -0.014362137764692307, ...   \n",
       "1       NaN    NaN  [-0.00421494897454977, -0.003558073891326785, ...   \n",
       "2       NaN    NaN  [0.003471081843599677, -0.011688053607940674, ...   \n",
       "3       NaN    NaN  [-0.025359127670526505, 0.030919456854462624, ...   \n",
       "4       NaN    NaN  [-0.03184713050723076, 0.005752094555646181, -...   \n",
       "\n",
       "                      metadata  \n",
       "0  {'type': 'feature_request'}  \n",
       "1  {'type': 'feature_request'}  \n",
       "2  {'type': 'feature_request'}  \n",
       "3  {'type': 'feature_request'}  \n",
       "4  {'type': 'feature_request'}  "
      ]
     },
     "execution_count": 9,
     "metadata": {},
     "output_type": "execute_result"
    }
   ],
   "source": [
    "df"
   ]
  },
  {
   "cell_type": "code",
   "execution_count": 10,
   "metadata": {},
   "outputs": [],
   "source": [
    "# Init the pinecone client\n",
    "## IMPORTANT: YOUR API KEY IS SENSITIVE INFORMATION\n",
    "## IMPORTANT: DELETE THE API KEY FROM THIS NOTEBOOK BEFORE UPLOADING TO GITHUB\n",
    "client = pinecone.init(api_key=\"\", environment=\"\")"
   ]
  },
  {
   "cell_type": "code",
   "execution_count": 11,
   "metadata": {},
   "outputs": [],
   "source": [
    "index = pinecone.Index(\"cohesive-ai\")"
   ]
  },
  {
   "attachments": {},
   "cell_type": "markdown",
   "metadata": {},
   "source": []
  },
  {
   "cell_type": "code",
   "execution_count": 12,
   "metadata": {},
   "outputs": [
    {
     "data": {
      "text/plain": [
       "{'upserted_count': 5}"
      ]
     },
     "execution_count": 12,
     "metadata": {},
     "output_type": "execute_result"
    }
   ],
   "source": [
    "## Pinecone expects a list of tuples with the key of the vector being\n",
    "## first and the vector being second. As a result, we need to convert\n",
    "## out Pandas dataframe to a list of tuples using the functions below.\n",
    "index.upsert(list(df[[\"Name\", \"ada_embedding\", \"metadata\"]].itertuples(index=False)), )"
   ]
  },
  {
   "cell_type": "code",
   "execution_count": null,
   "metadata": {},
   "outputs": [],
   "source": []
  }
 ],
 "metadata": {
  "kernelspec": {
   "display_name": "Python 3",
   "language": "python",
   "name": "python3"
  },
  "language_info": {
   "codemirror_mode": {
    "name": "ipython",
    "version": 3
   },
   "file_extension": ".py",
   "mimetype": "text/x-python",
   "name": "python",
   "nbconvert_exporter": "python",
   "pygments_lexer": "ipython3",
   "version": "3.9.6"
  },
  "orig_nbformat": 4
 },
 "nbformat": 4,
 "nbformat_minor": 2
}
